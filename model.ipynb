{
 "cells": [
  {
   "cell_type": "code",
   "execution_count": 47,
   "metadata": {},
   "outputs": [],
   "source": [
    "import os\n",
    "import numpy as np\n",
    "import pandas as pd\n",
    "import math as m\n",
    "\n",
    "import statsmodels.api as sm\n",
    "import statsmodels.formula.api as smf\n",
    "from statsmodels.graphics.tsaplots import plot_acf\n",
    "from statsmodels.graphics.tsaplots import plot_pacf\n",
    "from statsmodels.tsa.stattools import adfuller\n",
    "import seaborn as sns\n",
    "\n",
    "from scipy import stats\n",
    "\n",
    "import matplotlib.pyplot as plt\n",
    "import matplotlib as mpl\n",
    "\n",
    "from scipy import stats\n",
    "from scipy.fftpack import fft, rfft, fftfreq\n",
    "from scipy import signal\n",
    "\n",
    "\n",
    "\n",
    "from stargazer.stargazer import Stargazer\n",
    "from IPython.core.display import HTML\n",
    "\n",
    "\n"
   ]
  },
  {
   "cell_type": "code",
   "execution_count": 48,
   "metadata": {},
   "outputs": [],
   "source": [
    "os.chdir('/Users/rgreen/Documents/Github/NDVI_Projection/')\n",
    "\n",
    "oromia = pd.ExcelFile('oromia.xlsx')\n",
    "arsi = pd.read_excel(oromia, 'arsi')\n",
    "bale = pd.read_excel(oromia, 'bale')\n",
    "borena = pd.read_excel(oromia, 'borena')\n",
    "guji = pd.read_excel(oromia, 'guji')\n",
    "westarsi = pd.read_excel(oromia, 'westarsi')\n",
    "\n",
    "\n",
    "arsi.insert(0, 'Time', np.linspace(1,585,585))\n",
    "bale.insert(0, 'Time', np.linspace(1,585,585))\n",
    "borena.insert(0, 'Time', np.linspace(1,585,585))\n",
    "guji.insert(0, 'Time', np.linspace(1,585,585))\n",
    "westarsi.insert(0, 'Time', np.linspace(1,585,585))"
   ]
  },
  {
   "cell_type": "code",
   "execution_count": 49,
   "metadata": {},
   "outputs": [],
   "source": [
    "#dekadal data (P, LST, ET)    \n",
    "ddf = pd.DataFrame()\n",
    "ddf['D_NDVI'] = arsi.NDVI.diff()[1:]\n",
    "ddf = ddf.reset_index(drop=True)\n",
    "#L_NDVI = arsi.NDVI.shift(-1) #lag\n",
    "ddf['NDVI_P'] = ((max(arsi.NDVI) - (arsi.NDVI[:-1]))* (arsi.P[:-1]))\n",
    "ddf['NDVI_LST'] = (((arsi.NDVI[:-1]) - min(arsi.NDVI))* (arsi.LST[:-1])).shift(4) #need to shift back lags, use shift not index\n",
    "ddf['NDVI_ET'] = (((arsi.NDVI[:-1]) - min(arsi.NDVI))* (arsi.ET[:-1])).shift(4)\n",
    "\n"
   ]
  },
  {
   "cell_type": "code",
   "execution_count": 50,
   "metadata": {},
   "outputs": [
    {
     "ename": "AttributeError",
     "evalue": "'DataFrame' object has no attribute 'N_LST'",
     "output_type": "error",
     "traceback": [
      "\u001b[0;31m---------------------------------------------------------------------------\u001b[0m",
      "\u001b[0;31mAttributeError\u001b[0m                            Traceback (most recent call last)",
      "\u001b[0;32m<ipython-input-50-924002912294>\u001b[0m in \u001b[0;36m<module>\u001b[0;34m()\u001b[0m\n\u001b[1;32m      2\u001b[0m \u001b[0;34m\u001b[0m\u001b[0m\n\u001b[1;32m      3\u001b[0m \u001b[0;31m#mask\u001b[0m\u001b[0;34m\u001b[0m\u001b[0;34m\u001b[0m\u001b[0;34m\u001b[0m\u001b[0m\n\u001b[0;32m----> 4\u001b[0;31m \u001b[0mmask_lst\u001b[0m \u001b[0;34m=\u001b[0m \u001b[0;34m~\u001b[0m\u001b[0mnp\u001b[0m\u001b[0;34m.\u001b[0m\u001b[0misnan\u001b[0m\u001b[0;34m(\u001b[0m\u001b[0mddf\u001b[0m\u001b[0;34m.\u001b[0m\u001b[0mN_LST\u001b[0m\u001b[0;34m)\u001b[0m \u001b[0;34m&\u001b[0m \u001b[0;34m~\u001b[0m\u001b[0mnp\u001b[0m\u001b[0;34m.\u001b[0m\u001b[0misnan\u001b[0m\u001b[0;34m(\u001b[0m\u001b[0mddf\u001b[0m\u001b[0;34m.\u001b[0m\u001b[0mD_NDVI\u001b[0m\u001b[0;34m)\u001b[0m\u001b[0;34m\u001b[0m\u001b[0;34m\u001b[0m\u001b[0m\n\u001b[0m\u001b[1;32m      5\u001b[0m \u001b[0mmask_et\u001b[0m \u001b[0;34m=\u001b[0m \u001b[0;34m~\u001b[0m\u001b[0mnp\u001b[0m\u001b[0;34m.\u001b[0m\u001b[0misnan\u001b[0m\u001b[0;34m(\u001b[0m\u001b[0mddf\u001b[0m\u001b[0;34m.\u001b[0m\u001b[0mN_ET\u001b[0m\u001b[0;34m)\u001b[0m \u001b[0;34m&\u001b[0m \u001b[0;34m~\u001b[0m\u001b[0mnp\u001b[0m\u001b[0;34m.\u001b[0m\u001b[0misnan\u001b[0m\u001b[0;34m(\u001b[0m\u001b[0mddf\u001b[0m\u001b[0;34m.\u001b[0m\u001b[0mD_NDVI\u001b[0m\u001b[0;34m)\u001b[0m\u001b[0;34m\u001b[0m\u001b[0;34m\u001b[0m\u001b[0m\n\u001b[1;32m      6\u001b[0m \u001b[0;34m\u001b[0m\u001b[0m\n",
      "\u001b[0;32m~/anaconda3/lib/python3.7/site-packages/pandas/core/generic.py\u001b[0m in \u001b[0;36m__getattr__\u001b[0;34m(self, name)\u001b[0m\n\u001b[1;32m   5065\u001b[0m             \u001b[0;32mif\u001b[0m \u001b[0mself\u001b[0m\u001b[0;34m.\u001b[0m\u001b[0m_info_axis\u001b[0m\u001b[0;34m.\u001b[0m\u001b[0m_can_hold_identifiers_and_holds_name\u001b[0m\u001b[0;34m(\u001b[0m\u001b[0mname\u001b[0m\u001b[0;34m)\u001b[0m\u001b[0;34m:\u001b[0m\u001b[0;34m\u001b[0m\u001b[0;34m\u001b[0m\u001b[0m\n\u001b[1;32m   5066\u001b[0m                 \u001b[0;32mreturn\u001b[0m \u001b[0mself\u001b[0m\u001b[0;34m[\u001b[0m\u001b[0mname\u001b[0m\u001b[0;34m]\u001b[0m\u001b[0;34m\u001b[0m\u001b[0;34m\u001b[0m\u001b[0m\n\u001b[0;32m-> 5067\u001b[0;31m             \u001b[0;32mreturn\u001b[0m \u001b[0mobject\u001b[0m\u001b[0;34m.\u001b[0m\u001b[0m__getattribute__\u001b[0m\u001b[0;34m(\u001b[0m\u001b[0mself\u001b[0m\u001b[0;34m,\u001b[0m \u001b[0mname\u001b[0m\u001b[0;34m)\u001b[0m\u001b[0;34m\u001b[0m\u001b[0;34m\u001b[0m\u001b[0m\n\u001b[0m\u001b[1;32m   5068\u001b[0m \u001b[0;34m\u001b[0m\u001b[0m\n\u001b[1;32m   5069\u001b[0m     \u001b[0;32mdef\u001b[0m \u001b[0m__setattr__\u001b[0m\u001b[0;34m(\u001b[0m\u001b[0mself\u001b[0m\u001b[0;34m,\u001b[0m \u001b[0mname\u001b[0m\u001b[0;34m,\u001b[0m \u001b[0mvalue\u001b[0m\u001b[0;34m)\u001b[0m\u001b[0;34m:\u001b[0m\u001b[0;34m\u001b[0m\u001b[0;34m\u001b[0m\u001b[0m\n",
      "\u001b[0;31mAttributeError\u001b[0m: 'DataFrame' object has no attribute 'N_LST'"
     ]
    }
   ],
   "source": [
    "#shift is (n-1) dekads, ex. shift(4) is 5 dekads lag\n",
    "\n",
    "#mask\n",
    "mask_lst = ~np.isnan(ddf.N_LST) & ~np.isnan(ddf.D_NDVI)\n",
    "mask_et = ~np.isnan(ddf.N_ET) & ~np.isnan(ddf.D_NDVI)\n",
    "\n",
    "#stats.lingress (X,Y)\n",
    "slope1, intercept1, r1, p1, std1 = stats.linregress(ddf.N_P, ddf.D_NDVI)\n",
    "line1 = slope1*ddf.N_P+intercept1\n",
    "print(\"r-squared: %f\" % r1**2)\n",
    "slope2, intercept2, r2, p2, std2 = stats.linregress(ddf.N_LST[mask_lst], ddf.D_NDVI[mask_lst])\n",
    "line2 = slope2*ddf.N_LST+intercept2\n",
    "print(\"r-squared: %f\" % r2**2)\n",
    "slope3, intercept3, r3, p3, std3 = stats.linregress(ddf.N_ET[mask_et], ddf.D_NDVI[mask_et])\n",
    "line3 = slope3*ddf.N_ET+intercept3\n",
    "print(\"r-squared: %f\" % r3**2)\n",
    "\n",
    "fig, (ax1, ax2, ax3) = plt.subplots(3, sharey =True)\n",
    "ax1.scatter(ddf.N_P, ddf.D_NDVI, color = 'darkcyan')\n",
    "ax1.plot(ddf.N_P, line1, color = 'k')\n",
    "ax1.set(xlabel = r'$(NDVI_{max} - NDVI_{t-1})*P_{t-1}$', ylabel = '')\n",
    "ax1.text(16, -0.04, r'y = 0.005x + 0.02', fontsize=8)\n",
    "ax1.text(16, -0.05, r'$r^2$ = 0.528', fontsize=8)\n",
    "ax2.scatter(ddf.N_LST, ddf.D_NDVI, color = 'forestgreen')\n",
    "ax2.set(xlabel = r'$(NDVI_{t-5} - NDVI_{min})*LST_{t-5}$', ylabel = '')\n",
    "ax2.plot(ddf.N_LST, line2, color = 'k')\n",
    "ax2.text(9, 0.07, r'y = -0.005x + 0.038', fontsize=8)\n",
    "ax2.text(9, 0.06, r'$r^2$ = 0.386', fontsize=8)\n",
    "ax3.scatter(ddf.N_ET, ddf.D_NDVI, color = 'cornflowerblue')\n",
    "ax3.set(xlabel = r'$(NDVI_{max} - NDVI_{t-5})*ET_{t-5}$', ylabel = '')\n",
    "ax3.plot(ddf.N_ET, line3, color = 'k')\n",
    "ax3.text(15, 0.07, r'y = -0.003x + 0.031', fontsize=8)\n",
    "ax3.text(15, 0.06, r'$r^2$ = 0.414', fontsize=8)\n",
    "fig.text(0.06, 0.5, r'$\\Delta NDVI$', ha='center', va='center', rotation='vertical') #common ylabel\n",
    "# =============================================================================\n",
    "#     \n",
    "#     sns.set(style=\"ticks\", color_codes=True)\n",
    "#     \n",
    "#     fig = plt.figure()\n",
    "#     sns.regplot(x=ddf.N_P, y=ddf.D_NDVI)\n",
    "#     \n",
    "#     g = sns.PairGrid(ddf, y_vars=[\"D_NDVI\"], x_vars=[\"N_P\", \"N_LST\", \"N_ET\"], height=4)\n",
    "#     g.map(sns.regplot, color=\".3\")\n",
    "#     \n",
    "#     replacements = {'D_NDVI': r'$\\Delta NDVI$', 'N_P': '(maxNDVI - NDVIt-1)*Pt-1',\n",
    "#                 'N_LST': '(NDVIt-5 - minNDVI)*LSTt-5', 'N_ET': '(NDVIt-5 - minNDVI)*N_ETt-5'}\n",
    "# \n",
    "#     for i in range(4):\n",
    "#         for j in range(4):\n",
    "#             xlabel = g.axes[i][j].get_xlabel()\n",
    "#             ylabel = g.axes[i][j].get_ylabel()\n",
    "#             if xlabel in replacements.keys():\n",
    "#                 g.axes[i][j].set_xlabel(replacements[xlabel])\n",
    "#             if ylabel in replacements.keys():\n",
    "#                 g.axes[i][j].set_ylabel(replacements[ylabel])\n",
    "#         \n",
    "# =============================================================================\n",
    "\n",
    "# =============================================================================\n",
    "#    \n",
    "#     r, p = stats.pearsonr(ddf.D_NDVI, ddf.N_P)\n",
    "#     r, p = stats.pearsonr(ddf.D_NDVI, ddf.N_LST)\n",
    "#     r, p = stats.pearsonr(ddf.D_NDVI, ddf.N_LST)\n",
    "#     "
   ]
  },
  {
   "cell_type": "code",
   "execution_count": 51,
   "metadata": {},
   "outputs": [
    {
     "name": "stderr",
     "output_type": "stream",
     "text": [
      "/Users/rgreen/anaconda3/lib/python3.7/site-packages/numpy/core/fromnumeric.py:2389: FutureWarning: Method .ptp is deprecated and will be removed in a future version. Use numpy.ptp instead.\n",
      "  return ptp(axis=axis, out=out, **kwargs)\n"
     ]
    }
   ],
   "source": [
    "#sm.OLS (Y,X)\n",
    "#ordinary least squares regression fit\n",
    "# =============================================================================\n",
    "#     \n",
    "# from IPython.core.display import HTML\n",
    "# def short_summary(est):\n",
    "#     return HTML(est.summary().tables[1].as_html())\n",
    "# =============================================================================\n",
    "\n",
    "model1 = ddf[['NDVI_P', 'NDVI_LST']]  #for multivariate regression ddf[['N_P', 'N_LST']]\n",
    "model2 = ddf[['NDVI_P', 'NDVI_ET']]\n",
    "model3 = ddf[['NDVI_LST', 'NDVI_ET']]\n",
    "model4 = ddf[['NDVI_LST', 'NDVI_ET', 'NDVI_P']]\n",
    "Y = ddf[['D_NDVI']]\n",
    "model1 = sm.add_constant(model1)\n",
    "model2 = sm.add_constant(model2)\n",
    "model3 = sm.add_constant(model3)\n",
    "model4 = sm.add_constant(model4)\n",
    "est1 = sm.OLS(Y,model1, missing = 'drop').fit()\n",
    "est2 = sm.OLS(Y,model2, missing = 'drop').fit()\n",
    "est3 = sm.OLS(Y,model3, missing = 'drop').fit()\n",
    "est4 = sm.OLS(Y,model4, missing = 'drop').fit()\n",
    "\n",
    "\n",
    "stargazer = Stargazer([est1, est2, est3, est4])"
   ]
  },
  {
   "cell_type": "code",
   "execution_count": null,
   "metadata": {},
   "outputs": [],
   "source": []
  },
  {
   "cell_type": "code",
   "execution_count": 52,
   "metadata": {},
   "outputs": [
    {
     "data": {
      "text/html": [
       "<table style=\"text-align:center\"><tr><td colspan=\"5\" style=\"border-bottom: 1px solid black\"></td></tr><tr><td style=\"text-align:left\"></td><td colspan=\"4\"><em>NDVI 1 Dekad Ahead Projection</em></td></tr><tr><td style=\"text-align:left\"></td><tr><td style=\"text-align:left\"></td><td>(1)</td><td>(2)</td><td>(3)</td><td>(4)</td></tr><tr><td colspan=\"5\" style=\"border-bottom: 1px solid black\"></td></tr><tr><td style=\"text-align:left\">NDVI_ET</td><td></td><td>-0.002<sup>***</sup></td><td>0.004<sup>***</sup></td><td>0.002<sup>**</sup></td></tr><tr><td style=\"text-align:left\"></td><td></td><td>(0.0)</td><td>(0.001)</td><td>(0.001)</td></tr><tr><td style=\"text-align:left\">NDVI_LST</td><td>-0.003<sup>***</sup></td><td></td><td>-0.012<sup>***</sup></td><td>-0.006<sup>***</sup></td></tr><tr><td style=\"text-align:left\"></td><td>(0.0)</td><td></td><td>(0.001)</td><td>(0.001)</td></tr><tr><td style=\"text-align:left\">NDVI_P</td><td>0.004<sup>***</sup></td><td>0.004<sup>***</sup></td><td></td><td>0.004<sup>***</sup></td></tr><tr><td style=\"text-align:left\"></td><td>(0.0)</td><td>(0.0)</td><td></td><td>(0.0)</td></tr><tr><td style=\"text-align:left\">const</td><td>0.007<sup>***</sup></td><td>0.002<sup></sup></td><td>0.042<sup>***</sup></td><td>0.009<sup>***</sup></td></tr><tr><td style=\"text-align:left\"></td><td>(0.002)</td><td>(0.002)</td><td>(0.002)</td><td>(0.003)</td></tr><td colspan=\"5\" style=\"border-bottom: 1px solid black\"></td></tr><tr><td style=\"text-align: left\">Observations</td><td>580.0</td><td>580.0</td><td>580.0</td><td>580.0</td></tr><tr><td style=\"text-align: left\">R<sup>2</sup></td><td>0.63</td><td>0.616</td><td>0.406</td><td>0.634</td></tr><tr><td style=\"text-align: left\">Adjusted R<sup>2</sup></td><td>0.629</td><td>0.615</td><td>0.404</td><td>0.632</td></tr><tr><td style=\"text-align: left\">Residual Std. Error</td><td>0.017(df = 577.0)</td><td>0.017(df = 577.0)</td><td>0.021(df = 577.0)</td><td>0.016(df = 576.0)</td></tr><tr><td style=\"text-align: left\">F Statistic</td><td>491.425<sup>***</sup>(df = 2.0; 577.0)</td><td>462.982<sup>***</sup>(df = 2.0; 577.0)</td><td>197.45<sup>***</sup>(df = 2.0; 577.0)</td><td>332.89<sup>***</sup>(df = 3.0; 576.0)</td></tr><tr><td colspan=\"5\" style=\"border-bottom: 1px solid black\"></td></tr><tr><td style=\"text-align: left\">Note:</td><td colspan=\"4\" style=\"text-align: right\"><em>p&lt;0.1</em>; <b>p&lt;0.05</b>; p&lt;0.01</td></tr></table>"
      ],
      "text/plain": [
       "<IPython.core.display.HTML object>"
      ]
     },
     "execution_count": 52,
     "metadata": {},
     "output_type": "execute_result"
    }
   ],
   "source": [
    "\n",
    "\n",
    "stargazer.dependent_variable_name('NDVI 1 Dekad Ahead Projection')\n",
    "HTML(stargazer.render_html())\n"
   ]
  },
  {
   "cell_type": "code",
   "execution_count": null,
   "metadata": {},
   "outputs": [],
   "source": []
  },
  {
   "cell_type": "code",
   "execution_count": null,
   "metadata": {},
   "outputs": [],
   "source": []
  },
  {
   "cell_type": "code",
   "execution_count": null,
   "metadata": {},
   "outputs": [],
   "source": []
  },
  {
   "cell_type": "code",
   "execution_count": null,
   "metadata": {},
   "outputs": [],
   "source": []
  }
 ],
 "metadata": {
  "kernelspec": {
   "display_name": "Python 3",
   "language": "python",
   "name": "python3"
  },
  "language_info": {
   "codemirror_mode": {
    "name": "ipython",
    "version": 3
   },
   "file_extension": ".py",
   "mimetype": "text/x-python",
   "name": "python",
   "nbconvert_exporter": "python",
   "pygments_lexer": "ipython3",
   "version": "3.7.2"
  }
 },
 "nbformat": 4,
 "nbformat_minor": 2
}
